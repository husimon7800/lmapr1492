{
 "cells": [
  {
   "cell_type": "code",
   "execution_count": 13,
   "id": "a3675053",
   "metadata": {},
   "outputs": [
    {
     "name": "stdout",
     "output_type": "stream",
     "text": [
      "Clique sur le lien pour télécharger mon fichier .CIF\n",
      "Attention, ce fichier .CIF n'est pas le fichier .CIF “symmetrized”\n"
     ]
    },
    {
     "data": {
      "text/html": [
       "<a href='mp-866132.cif' target='_blank'>mp-866132.cif</a><br>"
      ],
      "text/plain": [
       "/home/users/h/u/husimon/mp-866132.cif"
      ]
     },
     "metadata": {},
     "output_type": "display_data"
    }
   ],
   "source": [
    "from pymatgen.ext.matproj import MPRester\n",
    "from pymatgen.io.cif import CifWriter\n",
    "from IPython.display import FileLink\n",
    "from pymatgen.symmetry.analyzer import SpacegroupAnalyzer\n",
    "\n",
    "key = \"OeM7QMOQddQoMGfFB4h\"\n",
    "material = \"mp-866132\"\n",
    "material_name = \"Na₂TISb\"\n",
    "with MPRester(key) as m:\n",
    "    struct = m.get_structure_by_material_id(material,conventional_unit_cell=True)\n",
    "    w = CifWriter(struct)\n",
    "    w.write_file(material+\".cif\") \n",
    "    print(\"Clique sur le lien pour télécharger mon fichier .CIF\")\n",
    "    print(\"Attention, ce fichier .CIF n'est pas le fichier .CIF “symmetrized”\")\n",
    "    display(FileLink(material+\".cif\"))"
   ]
  },
  {
   "cell_type": "code",
   "execution_count": 22,
   "id": "1334f673",
   "metadata": {},
   "outputs": [
    {
     "name": "stdout",
     "output_type": "stream",
     "text": [
      "Les vecteurs du réseau direct : \n",
      "\n",
      "7.619546 0.000000 0.000000\n",
      "0.000000 7.619546 0.000000\n",
      "0.000000 0.000000 7.619546\n",
      "==================================\n",
      "Longueurs en Angström : \n",
      "\n",
      "Un Angström vaut 10e-10 mètres\n",
      "a = 7.619546\n",
      "b = 7.619546\n",
      "c = 7.619546\n",
      "==================================\n",
      "Angles en degrés : \n",
      "\n",
      "alpha =  90.0 °\n",
      "beta =  90.0 °\n",
      "gamma =  90.0 °\n",
      "==================================\n",
      "Vecteur du réseau réciproque : \n",
      "\n",
      "0.824614 -0.000000 0.000000\n",
      "0.000000 0.824614 0.000000\n",
      "-0.000000 -0.000000 0.824614\n",
      "==================================\n",
      "Longueurs en Angström des vecteurs du réseau réciproque: \n",
      "\n",
      "a = 0.8246141314954443\n",
      "b = 0.8246141314954443\n",
      "c = 0.8246141314954443\n",
      "==================================\n",
      "Angles en degrés : \n",
      "\n",
      "alpha =  90.00000000000001 °\n",
      "beta =  90.00000000000001 °\n",
      "gamma =  90.00000000000001 °\n",
      "==================================\n",
      "Le type de maille est :  cubic\n",
      "==================================\n",
      "Le système cristallin est :  cubic\n",
      "==================================\n",
      "Le groupe ponctuel est :  m-3m\n"
     ]
    }
   ],
   "source": [
    "vect = struct.lattice\n",
    "print(\"Les vecteurs du réseau direct : \\n\")\n",
    "print(vect)\n",
    "longueur = vect.abc\n",
    "\n",
    "print(\"==================================\")\n",
    "print(\"Longueurs en Angström : \\n\")\n",
    "print(\"Un Angström vaut 10e-10 mètres\")\n",
    "print(\"a = \" + str(longueur[0]))\n",
    "print(\"b = \" + str(longueur[1]))\n",
    "print(\"c = \" + str(longueur[2]))\n",
    "\n",
    "print(\"==================================\")\n",
    "print(\"Angles en degrés : \\n\")\n",
    "print(\"alpha = \", vect.angles[0],\"°\")\n",
    "print(\"beta = \", vect.angles[1],\"°\")\n",
    "print(\"gamma = \", vect.angles[2],\"°\")\n",
    "\n",
    "vecteur_reci = struct.lattice.reciprocal_lattice\n",
    "print(\"==================================\")\n",
    "print(\"Vecteur du réseau réciproque : \\n\")\n",
    "print(vecteur_reci)\n",
    "print(\"==================================\")\n",
    "print(\"Longueurs en Angström des vecteurs du réseau réciproque: \\n\")\n",
    "longueur_reci = vecteur_reci.abc\n",
    "print(\"a = \" + str(longueur_reci[0]))\n",
    "print(\"b = \" + str(longueur_reci[1]))\n",
    "print(\"c = \" + str(longueur_reci[2]))\n",
    "\n",
    "print(\"==================================\")\n",
    "print(\"Angles en degrés : \\n\")\n",
    "print(\"alpha = \", vecteur_reci.angles[0],\"°\")\n",
    "print(\"beta = \", vecteur_reci.angles[1],\"°\")\n",
    "print(\"gamma = \", vecteur_reci.angles[2],\"°\")\n",
    "\n",
    "print(\"==================================\")\n",
    "print(\"Le type de maille est : \", SpacegroupAnalyzer(struct).get_lattice_type())\n",
    "print(\"==================================\")\n",
    "print(\"Le système cristallin est : \", SpacegroupAnalyzer(struct).get_crystal_system())\n",
    "print(\"==================================\")\n",
    "print(\"Le groupe ponctuel est : \", SpacegroupAnalyzer(struct).get_point_group_symbol())\n",
    "\n"
   ]
  },
  {
   "cell_type": "code",
   "execution_count": null,
   "id": "a7b2331a",
   "metadata": {},
   "outputs": [],
   "source": []
  }
 ],
 "metadata": {
  "kernelspec": {
   "display_name": "Python 3",
   "language": "python",
   "name": "python3"
  },
  "language_info": {
   "codemirror_mode": {
    "name": "ipython",
    "version": 3
   },
   "file_extension": ".py",
   "mimetype": "text/x-python",
   "name": "python",
   "nbconvert_exporter": "python",
   "pygments_lexer": "ipython3",
   "version": "3.6.8"
  }
 },
 "nbformat": 4,
 "nbformat_minor": 5
}
