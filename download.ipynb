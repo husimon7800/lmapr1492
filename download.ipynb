{
 "cells": [
  {
   "cell_type": "code",
   "execution_count": 2,
   "id": "5f55e8fd",
   "metadata": {},
   "outputs": [
    {
     "name": "stdout",
     "output_type": "stream",
     "text": [
      "Clique sur le lien pour télécharger mon fichier .CIF\n",
      "Attention, ce fichier .CIF n'est pas le fichier .CIF “symmetrized”\n"
     ]
    },
    {
     "data": {
      "text/html": [
       "<a href='mp-866132.cif' target='_blank'>mp-866132.cif</a><br>"
      ],
      "text/plain": [
       "/home/users/h/u/husimon/mp-866132.cif"
      ]
     },
     "metadata": {},
     "output_type": "display_data"
    }
   ],
   "source": [
    "from pymatgen.ext.matproj import MPRester\n",
    "from pymatgen.io.cif import CifWriter\n",
    "from IPython.display import FileLink\n",
    "\n",
    "key = \"THffuQdwqwM6PirDemxP\"\n",
    "material = \"mp-866132\"\n",
    "material_name = \"Na₂TISb\"\n",
    "with MPRester(key) as m:\n",
    "    struct = m.get_structure_by_material_id(material,conventional_unit_cell=True)\n",
    "    w = CifWriter(struct)\n",
    "    w.write_file(material+\".cif\") \n",
    "    print(\"Clique sur le lien pour télécharger mon fichier .CIF\")\n",
    "    print(\"Attention, ce fichier .CIF n'est pas le fichier .CIF “symmetrized”\")\n",
    "    display(FileLink(material+\".cif\"))"
   ]
  },
  {
   "cell_type": "code",
   "execution_count": null,
   "id": "81f60d8e",
   "metadata": {},
   "outputs": [],
   "source": []
  }
 ],
 "metadata": {
  "kernelspec": {
   "display_name": "Python 3",
   "language": "python",
   "name": "python3"
  },
  "language_info": {
   "codemirror_mode": {
    "name": "ipython",
    "version": 3
   },
   "file_extension": ".py",
   "mimetype": "text/x-python",
   "name": "python",
   "nbconvert_exporter": "python",
   "pygments_lexer": "ipython3",
   "version": "3.6.8"
  }
 },
 "nbformat": 4,
 "nbformat_minor": 5
}
