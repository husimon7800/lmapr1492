{
 "cells": [
  {
   "cell_type": "code",
   "execution_count": 9,
   "metadata": {},
   "outputs": [
    {
     "data": {
      "application/vnd.jupyter.widget-view+json": {
       "model_id": "91c7023e778445798f85d160cef96354",
       "version_major": 2,
       "version_minor": 0
      },
      "text/plain": [
       "Retrieving MaterialsDoc documents:   0%|          | 0/1 [00:00<?, ?it/s]"
      ]
     },
     "metadata": {},
     "output_type": "display_data"
    },
    {
     "name": "stdout",
     "output_type": "stream",
     "text": [
      "Clique sur le lien pour télécharger mon fichier .CIF\n",
      "Attention, ce fichier .CIF n'est pas le fichier .CIF “symmetrized”\n"
     ]
    },
    {
     "data": {
      "text/html": [
       "<a href='mp-866132.cif' target='_blank'>mp-866132.cif</a><br>"
      ],
      "text/plain": [
       "/Users/hugosimon/mp-866132.cif"
      ]
     },
     "metadata": {},
     "output_type": "display_data"
    }
   ],
   "source": [
    "from pymatgen.ext.matproj import MPRester\n",
    "from pymatgen.io.cif import CifWriter\n",
    "from IPython.display import FileLink\n",
    "\n",
    "key = \"3g0TvQ2YBZ5aqMWe9GLLIc2T5rX4Garh\"\n",
    "material = \"mp-866132\"\n",
    "material_name = \"Na₂TISb\"\n",
    "with MPRester(key) as m:\n",
    "    struct = m.get_structure_by_material_id(material,conventional_unit_cell=True)\n",
    "    w = CifWriter(struct)\n",
    "    w.write_file(material+\".cif\") \n",
    "    print(\"Clique sur le lien pour télécharger mon fichier .CIF\")\n",
    "    print(\"Attention, ce fichier .CIF n'est pas le fichier .CIF “symmetrized”\")\n",
    "    display(FileLink(material+\".cif\"))\n",
    "\n",
    "\n",
    "\n"
   ]
  },
  {
   "cell_type": "code",
   "execution_count": null,
   "metadata": {},
   "outputs": [],
   "source": []
  },
  {
   "cell_type": "code",
   "execution_count": null,
   "metadata": {},
   "outputs": [],
   "source": []
  },
  {
   "cell_type": "code",
   "execution_count": null,
   "metadata": {},
   "outputs": [],
   "source": []
  }
 ],
 "metadata": {
  "kernelspec": {
   "display_name": "Python 3",
   "language": "python",
   "name": "python3"
  },
  "language_info": {
   "codemirror_mode": {
    "name": "ipython",
    "version": 3
   },
   "file_extension": ".py",
   "mimetype": "text/x-python",
   "name": "python",
   "nbconvert_exporter": "python",
   "pygments_lexer": "ipython3",
   "version": "3.8.8"
  },
  "vscode": {
   "interpreter": {
    "hash": "31f2aee4e71d21fbe5cf8b01ff0e069b9275f58929596ceb00d14d90e3e16cd6"
   }
  }
 },
 "nbformat": 4,
 "nbformat_minor": 2
}
